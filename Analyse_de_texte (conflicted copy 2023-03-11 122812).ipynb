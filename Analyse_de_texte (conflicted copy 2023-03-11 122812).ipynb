{
  "cells": [
    {
      "cell_type": "code",
      "execution_count": null,
      "metadata": {
        "id": "GSImldLK9PIh"
      },
      "outputs": [],
      "source": [
        "!kill -9 -1"
      ]
    },
    {
      "cell_type": "code",
      "execution_count": null,
      "metadata": {
        "colab": {
          "base_uri": "https://localhost:8080/"
        },
        "id": "dQBEt4vo9U8l",
        "outputId": "6dbf62ca-2d36-420f-aa1a-9190630b38d1"
      },
      "outputs": [
        {
          "name": "stdout",
          "output_type": "stream",
          "text": [
            "Drive already mounted at /content/drive; to attempt to forcibly remount, call drive.mount(\"/content/drive\", force_remount=True).\n"
          ]
        }
      ],
      "source": [
        "from google.colab import drive\n",
        "drive.mount('/content/drive')"
      ]
    },
    {
      "cell_type": "markdown",
      "metadata": {
        "id": "Gvyng6fe_wVN"
      },
      "source": [
        "Import de spacy, librairies de traitement de texte. Liens utiles : \n",
        "\n",
        "*  https://medium.com/@dhifallah.othmen/extraction-et-entra%C3%AEnement-des-entit%C3%A9s-nomm%C3%A9es-avec-spacy-90f7e1a219d7\n",
        "*  https://course.spacy.io/fr/\n",
        "*  https://datacorner.fr/spacy/"
      ]
    },
    {
      "cell_type": "code",
      "execution_count": 5,
      "metadata": {
        "colab": {
          "base_uri": "https://localhost:8080/"
        },
        "id": "r1sNTjEG5xCe",
        "outputId": "c6f3ba97-04bf-46cc-c087-334045d14a56"
      },
      "outputs": [
        {
          "name": "stdout",
          "output_type": "stream",
          "text": [
            "Defaulting to user installation because normal site-packages is not writeable\n",
            "Requirement already satisfied: spacy in /Users/augustinhannebert/Library/Python/3.9/lib/python/site-packages (3.5.1)\n",
            "Requirement already satisfied: cymem<2.1.0,>=2.0.2 in /Users/augustinhannebert/Library/Python/3.9/lib/python/site-packages (from spacy) (2.0.7)\n",
            "Requirement already satisfied: murmurhash<1.1.0,>=0.28.0 in /Users/augustinhannebert/Library/Python/3.9/lib/python/site-packages (from spacy) (1.0.9)\n",
            "Requirement already satisfied: jinja2 in /Users/augustinhannebert/Library/Python/3.9/lib/python/site-packages (from spacy) (3.1.2)\n",
            "Requirement already satisfied: packaging>=20.0 in /Users/augustinhannebert/Library/Python/3.9/lib/python/site-packages (from spacy) (23.0)\n",
            "Requirement already satisfied: pathy>=0.10.0 in /Users/augustinhannebert/Library/Python/3.9/lib/python/site-packages (from spacy) (0.10.1)\n",
            "Requirement already satisfied: thinc<8.2.0,>=8.1.8 in /Users/augustinhannebert/Library/Python/3.9/lib/python/site-packages (from spacy) (8.1.9)\n",
            "Requirement already satisfied: wasabi<1.2.0,>=0.9.1 in /Users/augustinhannebert/Library/Python/3.9/lib/python/site-packages (from spacy) (1.1.1)\n",
            "Requirement already satisfied: spacy-legacy<3.1.0,>=3.0.11 in /Users/augustinhannebert/Library/Python/3.9/lib/python/site-packages (from spacy) (3.0.12)\n",
            "Requirement already satisfied: tqdm<5.0.0,>=4.38.0 in /Users/augustinhannebert/Library/Python/3.9/lib/python/site-packages (from spacy) (4.65.0)\n",
            "Requirement already satisfied: numpy>=1.15.0 in /Users/augustinhannebert/Library/Python/3.9/lib/python/site-packages (from spacy) (1.24.2)\n",
            "Requirement already satisfied: setuptools in /Library/Developer/CommandLineTools/Library/Frameworks/Python3.framework/Versions/3.9/lib/python3.9/site-packages (from spacy) (58.0.4)\n",
            "Requirement already satisfied: smart-open<7.0.0,>=5.2.1 in /Users/augustinhannebert/Library/Python/3.9/lib/python/site-packages (from spacy) (6.3.0)\n",
            "Requirement already satisfied: srsly<3.0.0,>=2.4.3 in /Users/augustinhannebert/Library/Python/3.9/lib/python/site-packages (from spacy) (2.4.6)\n",
            "Requirement already satisfied: spacy-loggers<2.0.0,>=1.0.0 in /Users/augustinhannebert/Library/Python/3.9/lib/python/site-packages (from spacy) (1.0.4)\n",
            "Requirement already satisfied: requests<3.0.0,>=2.13.0 in /Users/augustinhannebert/Library/Python/3.9/lib/python/site-packages (from spacy) (2.28.2)\n",
            "Requirement already satisfied: typer<0.8.0,>=0.3.0 in /Users/augustinhannebert/Library/Python/3.9/lib/python/site-packages (from spacy) (0.7.0)\n",
            "Requirement already satisfied: catalogue<2.1.0,>=2.0.6 in /Users/augustinhannebert/Library/Python/3.9/lib/python/site-packages (from spacy) (2.0.8)\n",
            "Requirement already satisfied: preshed<3.1.0,>=3.0.2 in /Users/augustinhannebert/Library/Python/3.9/lib/python/site-packages (from spacy) (3.0.8)\n",
            "Requirement already satisfied: langcodes<4.0.0,>=3.2.0 in /Users/augustinhannebert/Library/Python/3.9/lib/python/site-packages (from spacy) (3.3.0)\n",
            "Requirement already satisfied: pydantic!=1.8,!=1.8.1,<1.11.0,>=1.7.4 in /Users/augustinhannebert/Library/Python/3.9/lib/python/site-packages (from spacy) (1.10.6)\n",
            "Requirement already satisfied: typing-extensions>=4.2.0 in /Users/augustinhannebert/Library/Python/3.9/lib/python/site-packages (from pydantic!=1.8,!=1.8.1,<1.11.0,>=1.7.4->spacy) (4.5.0)\n",
            "Requirement already satisfied: charset-normalizer<4,>=2 in /Users/augustinhannebert/Library/Python/3.9/lib/python/site-packages (from requests<3.0.0,>=2.13.0->spacy) (3.1.0)\n",
            "Requirement already satisfied: idna<4,>=2.5 in /Users/augustinhannebert/Library/Python/3.9/lib/python/site-packages (from requests<3.0.0,>=2.13.0->spacy) (3.4)\n",
            "Requirement already satisfied: certifi>=2017.4.17 in /Users/augustinhannebert/Library/Python/3.9/lib/python/site-packages (from requests<3.0.0,>=2.13.0->spacy) (2022.12.7)\n",
            "Requirement already satisfied: urllib3<1.27,>=1.21.1 in /Users/augustinhannebert/Library/Python/3.9/lib/python/site-packages (from requests<3.0.0,>=2.13.0->spacy) (1.26.15)\n",
            "Requirement already satisfied: blis<0.8.0,>=0.7.8 in /Users/augustinhannebert/Library/Python/3.9/lib/python/site-packages (from thinc<8.2.0,>=8.1.8->spacy) (0.7.9)\n",
            "Requirement already satisfied: confection<1.0.0,>=0.0.1 in /Users/augustinhannebert/Library/Python/3.9/lib/python/site-packages (from thinc<8.2.0,>=8.1.8->spacy) (0.0.4)\n",
            "Requirement already satisfied: click<9.0.0,>=7.1.1 in /Users/augustinhannebert/Library/Python/3.9/lib/python/site-packages (from typer<0.8.0,>=0.3.0->spacy) (8.1.3)\n",
            "Requirement already satisfied: MarkupSafe>=2.0 in /Users/augustinhannebert/Library/Python/3.9/lib/python/site-packages (from jinja2->spacy) (2.1.2)\n",
            "zsh:1: command not found: python\n"
          ]
        },
        {
          "ename": "OSError",
          "evalue": "[E050] Can't find model 'fr_core_news_md'. It doesn't seem to be a Python package or a valid path to a data directory.",
          "output_type": "error",
          "traceback": [
            "\u001b[0;31m---------------------------------------------------------------------------\u001b[0m",
            "\u001b[0;31mOSError\u001b[0m                                   Traceback (most recent call last)",
            "Cell \u001b[0;32mIn[5], line 6\u001b[0m\n\u001b[1;32m      3\u001b[0m \u001b[39mimport\u001b[39;00m \u001b[39mspacy\u001b[39;00m\n\u001b[1;32m      4\u001b[0m \u001b[39mfrom\u001b[39;00m \u001b[39mspacy\u001b[39;00m \u001b[39mimport\u001b[39;00m displacy\n\u001b[0;32m----> 6\u001b[0m nlp \u001b[39m=\u001b[39m spacy\u001b[39m.\u001b[39;49mload(\u001b[39m'\u001b[39;49m\u001b[39mfr_core_news_md\u001b[39;49m\u001b[39m'\u001b[39;49m)\n",
            "File \u001b[0;32m~/Library/Python/3.9/lib/python/site-packages/spacy/__init__.py:54\u001b[0m, in \u001b[0;36mload\u001b[0;34m(name, vocab, disable, enable, exclude, config)\u001b[0m\n\u001b[1;32m     30\u001b[0m \u001b[39mdef\u001b[39;00m \u001b[39mload\u001b[39m(\n\u001b[1;32m     31\u001b[0m     name: Union[\u001b[39mstr\u001b[39m, Path],\n\u001b[1;32m     32\u001b[0m     \u001b[39m*\u001b[39m,\n\u001b[0;32m   (...)\u001b[0m\n\u001b[1;32m     37\u001b[0m     config: Union[Dict[\u001b[39mstr\u001b[39m, Any], Config] \u001b[39m=\u001b[39m util\u001b[39m.\u001b[39mSimpleFrozenDict(),\n\u001b[1;32m     38\u001b[0m ) \u001b[39m-\u001b[39m\u001b[39m>\u001b[39m Language:\n\u001b[1;32m     39\u001b[0m \u001b[39m    \u001b[39m\u001b[39m\"\"\"Load a spaCy model from an installed package or a local path.\u001b[39;00m\n\u001b[1;32m     40\u001b[0m \n\u001b[1;32m     41\u001b[0m \u001b[39m    name (str): Package name or model path.\u001b[39;00m\n\u001b[0;32m   (...)\u001b[0m\n\u001b[1;32m     52\u001b[0m \u001b[39m    RETURNS (Language): The loaded nlp object.\u001b[39;00m\n\u001b[1;32m     53\u001b[0m \u001b[39m    \"\"\"\u001b[39;00m\n\u001b[0;32m---> 54\u001b[0m     \u001b[39mreturn\u001b[39;00m util\u001b[39m.\u001b[39;49mload_model(\n\u001b[1;32m     55\u001b[0m         name,\n\u001b[1;32m     56\u001b[0m         vocab\u001b[39m=\u001b[39;49mvocab,\n\u001b[1;32m     57\u001b[0m         disable\u001b[39m=\u001b[39;49mdisable,\n\u001b[1;32m     58\u001b[0m         enable\u001b[39m=\u001b[39;49menable,\n\u001b[1;32m     59\u001b[0m         exclude\u001b[39m=\u001b[39;49mexclude,\n\u001b[1;32m     60\u001b[0m         config\u001b[39m=\u001b[39;49mconfig,\n\u001b[1;32m     61\u001b[0m     )\n",
            "File \u001b[0;32m~/Library/Python/3.9/lib/python/site-packages/spacy/util.py:449\u001b[0m, in \u001b[0;36mload_model\u001b[0;34m(name, vocab, disable, enable, exclude, config)\u001b[0m\n\u001b[1;32m    447\u001b[0m \u001b[39mif\u001b[39;00m name \u001b[39min\u001b[39;00m OLD_MODEL_SHORTCUTS:\n\u001b[1;32m    448\u001b[0m     \u001b[39mraise\u001b[39;00m \u001b[39mIOError\u001b[39;00m(Errors\u001b[39m.\u001b[39mE941\u001b[39m.\u001b[39mformat(name\u001b[39m=\u001b[39mname, full\u001b[39m=\u001b[39mOLD_MODEL_SHORTCUTS[name]))  \u001b[39m# type: ignore[index]\u001b[39;00m\n\u001b[0;32m--> 449\u001b[0m \u001b[39mraise\u001b[39;00m \u001b[39mIOError\u001b[39;00m(Errors\u001b[39m.\u001b[39mE050\u001b[39m.\u001b[39mformat(name\u001b[39m=\u001b[39mname))\n",
            "\u001b[0;31mOSError\u001b[0m: [E050] Can't find model 'fr_core_news_md'. It doesn't seem to be a Python package or a valid path to a data directory."
          ]
        }
      ],
      "source": [
        "!pip3 install -U spacy\n",
        "!python -m spacy download fr_core_news_md\n",
        "import spacy\n",
        "from spacy import displacy\n",
        "\n",
        "nlp = spacy.load('fr_core_news_md')"
      ]
    },
    {
      "cell_type": "markdown",
      "metadata": {
        "id": "WW4jTsgs_vVi"
      },
      "source": [
        "Code qui permet la normalisation du texte"
      ]
    },
    {
      "cell_type": "code",
      "execution_count": null,
      "metadata": {
        "id": "o2qMkaSLCUsr"
      },
      "outputs": [],
      "source": [
        "import re\n",
        "import numpy as np\n",
        "from bs4 import BeautifulSoup\n",
        "from collections import Counter"
      ]
    },
    {
      "cell_type": "code",
      "execution_count": null,
      "metadata": {
        "id": "JN2z7AcR_lPT"
      },
      "outputs": [],
      "source": [
        "# Charger le fichier \n",
        "with open(\"/content/drive/MyDrive/Colab Notebooks/gd-fiscalite_depenses-utf8-sgml-cwb.html\", \"r\") as f:\n",
        "    html = f.read()\n",
        "\n",
        "# Supprimer toutes les balises div\n",
        "html = re.sub(r'<div.*?>', '', html, flags=re.DOTALL)\n",
        "html = re.sub(r'</div>', '', html, flags=re.DOTALL)\n",
        "\n",
        "# Écrire le fichier modifié\n",
        "with open(\"fichier_modifie.html\", \"w\") as f:\n",
        "    f.write(html)\n",
        "\n",
        "\n",
        "### supprimer les lignes vides\n",
        "with open(\"fichier_modifie.html\", \"r\") as f:\n",
        "    lines = f.readlines()\n",
        "\n",
        "lines = [line.strip() for line in lines if line.strip()]\n",
        "\n",
        "with open(\"fichier_sans_lignes_vides.html\", \"w\") as f:\n",
        "    f.write(\"\\n\".join(lines))\n"
      ]
    },
    {
      "cell_type": "markdown",
      "metadata": {
        "id": "1n8y2oJxGqJE"
      },
      "source": [
        "Affiche le début du contenu du texte \"fichier_sans_lignes_vides.html\""
      ]
    },
    {
      "cell_type": "code",
      "execution_count": null,
      "metadata": {
        "colab": {
          "base_uri": "https://localhost:8080/",
          "height": 104
        },
        "id": "jXWh4oPNGjaT",
        "outputId": "4fcbc3e2-d3de-4647-fbc5-3bb24cf96157"
      },
      "outputs": [
        {
          "data": {
            "text/html": [
              "<text id=\"x3.100\" theme=\"Fiscalité et dépenses publiques\" authortype=\"Citoyen / Citoyenne\" title=\"INDEXATION DES RETRAITES\" pubdatetime=\"2019-01-22 09:58:36\" pubdate=\"2019-01-22\" pubweek=\"2019-04\" updatetime=\"NULL\" authorzipcode=\"68100\" department=\"Haut-Rhin\" departmentiso=\"FR-68\" region=\"Grand Est\" regioniso=\"FR-GES\">\n",
              "Chaque citoyen même modeste devrait payer l'impôt sur le revenu. Ne pas prendre la classe moyenne pour des vaches à lait. Supprimer la taxe d'habitation pour tout le monde et ne pas faire payer à nouveau la classe moyenne.\n",
              "L'impôt sur les revenus.\n",
              "Revoir les conditions d'attribution de certaines aides sociales|Faire participer les très riches.\n",
              "Les aides accordées à tous les étrangers.\n",
              "Les soins médicaux, les remboursements de lunettes et dentaires.\n",
              "Je paye déjà suffisamment d'impôts, je ne suis pas prêt à en payer plus pour quelque action que ce soit.\n",
              "Je souhaite que l'indexation sur les retraites soit rétablie et je demande l'annulation de l'augmentation de la CSG pour tous les retraités.\n",
              "</text>\n",
              "<text id=\"x3.1000\" theme=\"Fiscalité et dépenses publiques\" authortype=\"Citoyen / Citoyenne\" title=\"Etalement des tranches impositions\" pubdatetime=\"2019-01-22 11:30:38\" pubdate=\"2019-01-22\" pubweek=\"2019-04\" updatetime=\"NULL\" authorzipcode=\"13680\" department=\"Bouches-du-Rhône\" departmentiso=\"FR-13\" region=\"Provence-Alpes-Côte d'Azur\" regioniso=\"FR-PAC\">\n"
            ],
            "text/plain": [
              "<IPython.core.display.HTML object>"
            ]
          },
          "execution_count": 18,
          "metadata": {},
          "output_type": "execute_result"
        }
      ],
      "source": [
        "from IPython.display import HTML\n",
        "\n",
        "with open(\"fichier_sans_lignes_vides.html\", \"r\") as f:\n",
        "    content = f.readlines()\n",
        "    \n",
        "HTML(\"\".join(content[:10]))#Affiche les 10 premieres lignes"
      ]
    },
    {
      "cell_type": "markdown",
      "metadata": {
        "id": "bpk6NKIc19gi"
      },
      "source": [
        "Premier traitement de texte avec spacy tokenisation de tout le texte"
      ]
    },
    {
      "cell_type": "code",
      "execution_count": null,
      "metadata": {
        "colab": {
          "base_uri": "https://localhost:8080/"
        },
        "id": "s-nhQyyz19CC",
        "outputId": "1d444112-e2ab-4abf-d3b9-51066c800f3d"
      },
      "outputs": [
        {
          "name": "stdout",
          "output_type": "stream",
          "text": [
            "< 25\n",
            "> 25\n",
            "dépenses 21\n",
            "02 20\n",
            "19 20\n",
            "publiques 15\n",
            "aides 15\n",
            "text 13\n",
            "theme=\"Fiscalité 13\n",
            "pubdatetime=\"2019 13\n",
            "pubdate=\"2019 13\n",
            "pubweek=\"2019 13\n",
            "updatetime=\"NULL 13\n",
            "regioniso=\"FR 13\n",
            "impôt 13\n",
            "revenu 13\n",
            "seuil 13\n",
            "euros 13\n",
            "revenus 12\n",
            "/text 12\n"
          ]
        }
      ],
      "source": [
        "# Analyser le texte en utilisant SpaCy\n",
        "with open(\"fichier_sans_lignes_vides.html\", \"r\", encoding=\"utf-8\") as f:\n",
        "    # Lecture des 100 premières lignes\n",
        "    lines = f.readlines()[:100]\n",
        "    # Concaténation des lignes en un seul texte\n",
        "    text = \"\".join(lines)\n",
        "doc = nlp(text)\n",
        "\n",
        "# Compter la fréquence de chaque mot dans le texte\n",
        "word_freq = Counter()\n",
        "for token in doc:\n",
        "    if not token.is_stop and not token.is_punct and not token.is_space:\n",
        "        word_freq[token.text] += 1\n",
        "\n",
        "# Afficher les 50 mots les plus fréquents dans le texte\n",
        "top_words = word_freq.most_common(20)\n",
        "for word, freq in top_words:\n",
        "    print(word, freq)"
      ]
    },
    {
      "cell_type": "markdown",
      "metadata": {
        "id": "pTxXaguE7kU9"
      },
      "source": [
        "Pour le moment nous allons continuer avec des exemples simples"
      ]
    },
    {
      "cell_type": "code",
      "execution_count": null,
      "metadata": {
        "colab": {
          "base_uri": "https://localhost:8080/"
        },
        "id": "dhik4rRf8Cld",
        "outputId": "fd2d45e1-20c2-468b-e887-8610a1b240f7"
      },
      "outputs": [
        {
          "name": "stdout",
          "output_type": "stream",
          "text": [
            "Terrible désillusion  -->  NP\n",
            "la championne  -->  NP\n",
            "monde  -->  NP\n"
          ]
        }
      ],
      "source": [
        "doc = nlp(\"Terrible désillusion pour la championne du monde\")\n",
        "for chunk in doc.noun_chunks:\n",
        "    print(chunk.text, \" --> \", chunk.label_)"
      ]
    },
    {
      "cell_type": "code",
      "execution_count": null,
      "metadata": {
        "colab": {
          "base_uri": "https://localhost:8080/"
        },
        "id": "1vMlnzXw-NKd",
        "outputId": "1549dfe9-c20d-438f-8aae-2635094f29b9"
      },
      "outputs": [
        {
          "name": "stdout",
          "output_type": "stream",
          "text": [
            "France LOC\n",
            "Microsoft ORG\n"
          ]
        }
      ],
      "source": [
        "doc = nlp(\"Demain je travaille en France chez Microsoft\")\n",
        "for ent in doc.ents:\n",
        "    print(ent.text, ent.label_)"
      ]
    }
  ],
  "metadata": {
    "colab": {
      "provenance": []
    },
    "kernelspec": {
      "display_name": "Python 3",
      "name": "python3"
    },
    "language_info": {
      "codemirror_mode": {
        "name": "ipython",
        "version": 3
      },
      "file_extension": ".py",
      "mimetype": "text/x-python",
      "name": "python",
      "nbconvert_exporter": "python",
      "pygments_lexer": "ipython3",
      "version": "3.9.6"
    }
  },
  "nbformat": 4,
  "nbformat_minor": 0
}
