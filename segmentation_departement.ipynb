{
 "cells": [
  {
   "cell_type": "code",
   "execution_count": 1,
   "metadata": {},
   "outputs": [],
   "source": [
    "import re\n",
    "# import string\n",
    "import numpy as np"
   ]
  },
  {
   "cell_type": "code",
   "execution_count": 2,
   "metadata": {},
   "outputs": [],
   "source": [
    "\n",
    "# Charger le fichier \n",
    "with open(\"../gd-fiscalite_depenses-utf8-sgml-cwb.txt\", \"r\") as f:\n",
    "    txt = f.read()\n",
    "\n",
    "# Supprimer toutes les balises div\n",
    "txt = re.sub(r'<div.*?>', '', txt, flags=re.DOTALL)\n",
    "txt = re.sub(r'</div>', '', txt, flags=re.DOTALL)\n",
    "txt = re.sub(r'</text>', '', txt, flags=re.DOTALL)\n",
    "\n",
    "\n",
    "# Écrire le fichier modifié\n",
    "with open(\"../fichier_modifie.txt\", \"w\") as f:\n",
    "    f.write(txt)\n",
    "\n",
    "\n",
    "### supprimer les lignes vides\n",
    "with open(\"../fichier_modifie.txt\", \"r\") as f:\n",
    "    lines = f.readlines()\n",
    "\n",
    "lines = [line.strip() for line in lines if line.strip()]\n",
    "\n",
    "with open(\"../fichier_sans_lignes_vides.txt\", \"w\") as f:\n",
    "    f.write(\"\\n\".join(lines))"
   ]
  },
  {
   "attachments": {},
   "cell_type": "markdown",
   "metadata": {},
   "source": [
    "On va essayer de regrouper les réponses par département"
   ]
  },
  {
   "cell_type": "code",
   "execution_count": 3,
   "metadata": {},
   "outputs": [
    {
     "name": "stdout",
     "output_type": "stream",
     "text": [
      "1282918\n",
      "90696.5\n"
     ]
    }
   ],
   "source": [
    "print(len(lines))\n",
    "tot=0\n",
    "for elt in lines:\n",
    "    if elt[0]==\"<\":\n",
    "        tot += 1\n",
    "print(tot/2)#le nombre de div text"
   ]
  },
  {
   "cell_type": "code",
   "execution_count": 4,
   "metadata": {},
   "outputs": [
    {
     "name": "stdout",
     "output_type": "stream",
     "text": [
      "800\n"
     ]
    }
   ],
   "source": [
    "ech = lines[0:100000]\n",
    "dico={}\n",
    "total=0\n",
    "for elt in ech:\n",
    "    # print(elt)\n",
    "    indexActuel = None\n",
    "    if elt[0:8]==\"<text id\":\n",
    "        index=(elt.find('departmentiso=\"'))\n",
    "        idDep = elt[index+len('departmentiso=\"FR-') : index+len('departmentiso=\"')+5]\n",
    "        dico[idDep] = []\n",
    "        \n",
    "    # else :\n",
    "    #     dico[idDep].append(elt)\n",
    "    if idDep =='68':\n",
    "            if elt[0]!=\"<\":\n",
    "                total+=1\n",
    "                dico[idDep].append(elt)\n",
    "                # print(idDep, elt)\n",
    "print(total)\n",
    "\n",
    "\n",
    "\n",
    "# <text id=\"x3.100\" theme=\"Fiscalité et dépenses publiques\" authortype=\"Citoyen / Citoyenne\" title=\"INDEXATION DES RETRAITES\" pubdatetime=\"2019-01-22 09:58:36\" pubdate=\"2019-01-22\" pubweek=\"2019-04\" updatetime=\"NULL\" authorzipcode=\"68100\" department=\"Haut-Rhin\" departmentiso=\"FR-68\" region=\"Grand Est\" regioniso=\"FR-GES\">\n",
    "# Chaque citoyen même modeste devrait payer l'impôt sur le revenu. Ne pas prendre la classe moyenne pour des vaches à lait. Supprimer la taxe d'habitation pour tout le monde et ne pas faire payer à nouveau la classe moyenne.\n",
    "# L'impôt sur les revenus.\n",
    "# Revoir les conditions d'attribution de certaines aides sociales|Faire participer les très riches.\n",
    "# Les aides accordées à tous les étrangers.\n",
    "# Les soins médicaux, les remboursements de lunettes et dentaires.\n",
    "# Je paye déjà suffisamment d'impôts, je ne suis pas prêt à en payer plus pour quelque action que ce soit.\n",
    "# Je souhaite que l'indexation sur les retraites soit rétablie et je demande l'annulation de l'augmentation de la CSG pour tous les retraités.\n",
    "\n",
    "\n"
   ]
  },
  {
   "cell_type": "code",
   "execution_count": 5,
   "metadata": {},
   "outputs": [
    {
     "name": "stdout",
     "output_type": "stream",
     "text": [
      "3\n"
     ]
    }
   ],
   "source": [
    "# for cle, valeur in dico.items():\n",
    "#     print(cle, \":\", valeur)\n",
    "# print(dico['68'])\n",
    "print(len(dico['68']))"
   ]
  },
  {
   "attachments": {},
   "cell_type": "markdown",
   "metadata": {},
   "source": [
    "identifier la liste des thèmes\n",
    "\n",
    "faire des sous datasets par thème\n",
    "\n",
    "question cruciale : on veut calculer l'opinion pour chacun de ces thèmes là\n",
    "\n",
    "parser syntaxique\n",
    "\n",
    "deeplearning  : modèle sur étagère qui va expliquer si la phrase est positive ou négative.\n",
    "\n",
    "on peut faire des sous dataset\n",
    "\n",
    "tritagger\n",
    "\n",
    "définir une liste d'objet qu'on repère et qu'on définit comme positif ou négatif. quand on a trouvé un des verbes de la liste, on l'envoie à un outil de parszer syntaxique (il y en a sur spacy).\n",
    "on récupère les catégories grammaticales, et on doit extraire les relations entre les tokens, entre les sujets et les verbes. on vérifie q'il y a une négation auquel cas on change la polarité. on peut ensuite faire des statisqtiues, genre dans quelle proportion apppparait le sujet de manière positive / ,négative. etc, ...\n",
    "\n",
    "il existe des lexiques sur des thèmes qui sont porteurs d'une opinion, (lexique opinion FEEL par exemple)"
   ]
  }
 ],
 "metadata": {
  "kernelspec": {
   "display_name": "Python 3",
   "language": "python",
   "name": "python3"
  },
  "language_info": {
   "codemirror_mode": {
    "name": "ipython",
    "version": 3
   },
   "file_extension": ".py",
   "mimetype": "text/x-python",
   "name": "python",
   "nbconvert_exporter": "python",
   "pygments_lexer": "ipython3",
   "version": "3.9.6"
  },
  "orig_nbformat": 4
 },
 "nbformat": 4,
 "nbformat_minor": 2
}
