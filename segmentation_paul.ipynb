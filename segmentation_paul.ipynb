{
 "cells": [
  {
   "attachments": {},
   "cell_type": "markdown",
   "metadata": {},
   "source": [
    "Initiliase les lignes et regarde les titres les plus récurrents"
   ]
  },
  {
   "cell_type": "code",
   "execution_count": 4,
   "metadata": {},
   "outputs": [],
   "source": [
    "import matplotlib.pyplot as plt\n",
    "\n",
    "with open(\"../fichier_sans_lignes_vides.txt\", \"r\", encoding=\"utf8\") as f:\n",
    "    lines = f.readlines()\n",
    "\n",
    "lines = [line.strip() for line in lines if line.strip()]\n",
    "\n",
    "d_title = {}\n",
    "for i in range(len(lines)):\n",
    "    if lines[i][0:5] == \"<text\":\n",
    "        p = \"\"\n",
    "        boo = False\n",
    "        for j in range(len(lines[i])):\n",
    "            if lines[i][j-7:j] == 'title=\"':\n",
    "                boo = True\n",
    "            if lines[i][j] == '\"':\n",
    "                boo = False\n",
    "            if boo != False:\n",
    "                p += lines[i][j]\n",
    "        if p in d_title:  #ajoute dans un dictionnaire le thème et son itération correspondante dans une liste\n",
    "            d_title[p].append(i)\n",
    "        else:\n",
    "            d_title[p] = [i]\n",
    "    if i > 50:\n",
    "        break \n",
    "# print(d_title)\n",
    "\n",
    "# for elt in d_title:\n",
    "#     if len(d_title[elt]) > 1:\n",
    "#         print(elt,\"---\",len(d_title[elt]))  \n",
    "#affiche le nombre de thèmes qui apparaisse + de 2 fois, et c'est souvent 2 fois max donc pas fou de faire une analyse sur les thèmes sauf si on les généralise mais c'est risqué sur des questions précises\n",
    "# pas concluant"
   ]
  },
  {
   "attachments": {},
   "cell_type": "markdown",
   "metadata": {},
   "source": [
    "Regarde les questions et les mets dans un dictionnaire en fonction d'un département"
   ]
  },
  {
   "cell_type": "code",
   "execution_count": 7,
   "metadata": {},
   "outputs": [],
   "source": [
    "# d_dept_quest = {}\n",
    "# for i in range(len(lines)):\n",
    "#     if lines[i][0:5] == \"<text\":\n",
    "#         p = \"\"\n",
    "#         boo = False\n",
    "#         for j in range(len(lines[i])):\n",
    "#             # if lines[i][j-12:j] == 'department=\"': #par nom de departement\n",
    "#             # if lines[i][j-8:j] == 'region=\"':  #par region\n",
    "#             if lines[i][j-15:j] == 'departmentiso=\"':  #par numéro de departement\n",
    "#                 boo = True\n",
    "#             if lines[i][j] == '\"':\n",
    "#                 boo = False\n",
    "#             if boo != False:\n",
    "#                 p += lines[i][j]\n",
    "#         if p in d_dept_quest:  #ajoute dans un dictionnaire le thème et son itération correspondante dans une liste\n",
    "#             # print(lines[i])\n",
    "#             d_dept_quest[p].append(lines[i])\n",
    "#         else:\n",
    "#             d_dept_quest[p] = [lines[i]]\n",
    "    # if i > 100:\n",
    "    #     break\n",
    "\n",
    "   # for elt in d_dept_quest:\n",
    "#     d_dept_quest[elt] = len(d_dept_quest[elt])\n",
    "#     print(elt,\"---\",d_dept_quest[elt]) \n",
    "# print(\"\\n\\n\")"
   ]
  },
  {
   "attachments": {},
   "cell_type": "markdown",
   "metadata": {},
   "source": [
    "La même chose en faisant les réponses"
   ]
  },
  {
   "cell_type": "code",
   "execution_count": 5,
   "metadata": {},
   "outputs": [
    {
     "name": "stdout",
     "output_type": "stream",
     "text": [
      "{'FR-31': [\"Informer sur les grands postes de dépenses du budget de l'état. Les gens n'ont pas idée que les grands postes ce sont les salaires des fonctionnaires, et les prestations sociales. Ils ont l'impression que des gens se gavent avec leur argent.\", \"Il faudrait faire un équivalent à ce qui se fait aux USA: Tout citoyen français est redevable d'impôt en France. Si il réside à l'étranger, il paie ses impôts localement dans son pays de résidence, mais fait une déclaration aussi en France. Son impôt est calculé comme si il résidait en France. Si le montant est supérieur à ce qu'il paie dans le pays de résidence, alors il paie à la France le complément: (impôt qu'il paierait si résident français - impôt payé dans pays de résidence). Avec ce système, il devient inutile de se domicilier à l’étranger (Belgique, Monaco, Portugal,...) pour échapper à l’impôt français, car on n'y gagne plus rien. Si ce principe n'est pas respecté, la personne perd sa citoyenneté française, et devra prendre une autre nationalité et donc ne bénéficiera plus des prestations sociales en France (santé,etc..).\", 'Les impôts sur le revenu', \"Reculer l'âge de la retraite|Revoir les conditions d'attribution de certaines aides sociales\", \"Plus que les conditions d'attribution, c'est le montant. On peut voir que souvent cela ne pousse pas à travailler, car on ne touche pas beaucoup plus à travailler en proportion. En cas de chômage, un montant minimum identique pour tout le monde et sur une durée de un an max.\", 'Aucune. Déjà trop dépensier.', 'Aucune', \"Trop d'augmentation des impôts sur le mandat de Hollande. Ras le bol. Il faut diminuer les impôts.\"], 'FR-46': [\"un accueil téléphonique rapide et gratuit (CAF 0.06cts/mn) un site internet plus fonctionnel avec une obligation de réponse rapide, clair et précise en réponse à vos demandes ce qui éviterait d'appeler au téléphone d'où perte de temps pour les fonctionnaires et donc une amélioration de la productivité\", \"arrêter de prendre les derniers déciles pour des vaches à lait - tout le monde devrait payer des impôts ce qui permettrait à la totalité de la population d'appartenir à la nation quitte à les rembourser par le biais des allocations CICE, Crédit imôt recherche : les sommes versées dans ces cadres devraient être en corrélation avec les capitaux propres de l'entreprise, le montant des dividendes versés afin que ces sommes ne soient pas avalées par les actionnaires ISF pour cet impôt mais dont serait déduit les investissements réalisés dans les entreprises sur une durée de 5 années minimum\", \"L'ensemble des impôts directs\", \"Revoir les conditions d'attribution de certaines aides sociales|Créer enfin de la productivité dans les services (états, collectivités, région)\", \"L'ensemble des aides sociales\", \"Aucune - il faut impérativement baisser les coûts afin de générer des économies et ainsi permettre de financer de nouveaux domaines d'action publiques mais seulement après avoir généré des baisses de coûts\", 'Salaires des fonctionnaires : Il ne devrait y avoir aucun salaire de fonctionnaire supérieur à celui du 1er ministre Cours des comptes : obligation de mettre en oeuvre les actions correctives dans les 2 années suivant le rapport Suppression des départements Cumul emploi retraite : interdiction de cumul emploi retraite pour un fonctionnaire dont la retraite est supérieure à 5000€ Limiter le nombre de ministres, directeurs de cabinets, réduire le nombre de commissions Téophiles et les salaires des intervenants Obliger les régions à réduire leurs dépenses base avant la réorganisation (ex Occitanie qui a augmenté ces dépenses) Député - Sénateurs à diviser par 2 tout en laissant un minimum de 2 députés et 2 sénateurs par département'], 'FR-34': [\"Faire reposer l'impôt sur le revenu sur la totalité des rentrées , donc y intégrer tous les revenus de remplacement ( allocations , par exemple) ; bien sûr modifier en conséquence le barême.... Il est malsain de rendre l'impôt indolore (CSG ,prélèvement à la source ) ; cela déresponsabilise le citoyen\", \"Augmenter le temps de travail|Revoir les conditions d'attribution de certaines aides sociales\", 'Les aides au logement, soit directes ,soit indirectes doivent être mieux ciblées sur ceux qui en ont vraiment besoin .Les alloc.logement profitent surtout aux loueurs qui augmentent les loyers . Les logements sociaux ne sont pas toujours occupés par de vrais ayant-droits .']}\n"
     ]
    }
   ],
   "source": [
    "d_dept_rep = {}\n",
    "for i in range(len(lines)):\n",
    "    if lines[i][0:5] == \"<text\":\n",
    "        p = \"\"\n",
    "        boo = False\n",
    "        for j in range(len(lines[i])):\n",
    "            # if lines[i][j-12:j] == 'department=\"': #par nom de departement\n",
    "            # if lines[i][j-8:j] == 'region=\"':  #par region\n",
    "            if lines[i][j-15:j] == 'departmentiso=\"':  #par numéro de departement\n",
    "                boo = True\n",
    "            if lines[i][j] == '\"':\n",
    "                boo = False\n",
    "            if boo != False:\n",
    "                p += lines[i][j]\n",
    "    else:\n",
    "        if lines[i] != \"</text>\":\n",
    "            if p in d_dept_rep:  #ajoute dans un dictionnaire le thème et son itération correspondante dans une liste\n",
    "                # print(lines[i])\n",
    "                d_dept_rep[p].append(lines[i])\n",
    "            else:\n",
    "                d_dept_rep[p] = [lines[i]]\n",
    "    if i > 100:\n",
    "        break\n",
    "\n",
    "list_dep = [\"FR-09\",\"FR-11\",\"FR-12\",\"FR-30\",\"FR-31\",\"FR-32\",\"FR-34\",\"FR-46\",\"FR-48\",\"FR-65\",\"FR-66\",\"FR-81\",\"FR-82\"]\n",
    "for cle in list(d_dept_rep.keys()):\n",
    "    if cle not in list_dep:\n",
    "        del d_dept_rep[cle]\n",
    "# for elt in d_dept_rep:\n",
    "#     d_dept_rep[elt] = len(d_dept_rep[elt])\n",
    "#     print(elt,\"---\",d_dept_rep[elt]) \n",
    "#par départment c'est déjà mieux (données sur 100 départements)\n",
    "\n",
    "#trier de manière décroissante\n",
    "sorted_d = dict(sorted(d_dept_rep.items(), key=lambda x: len(x[1]), reverse=True))\n",
    "print(sorted_d)"
   ]
  },
  {
   "cell_type": "code",
   "execution_count": 6,
   "metadata": {},
   "outputs": [
    {
     "name": "stdout",
     "output_type": "stream",
     "text": [
      "[\"Faire reposer l'impôt sur le revenu sur la totalité des rentrées , donc y intégrer tous les revenus de remplacement ( allocations , par exemple) ; bien sûr modifier en conséquence le barême.... Il est malsain de rendre l'impôt indolore (CSG ,prélèvement à la source ) ; cela déresponsabilise le citoyen\", \"Augmenter le temps de travail|Revoir les conditions d'attribution de certaines aides sociales\", 'Les aides au logement, soit directes ,soit indirectes doivent être mieux ciblées sur ceux qui en ont vraiment besoin .Les alloc.logement profitent surtout aux loueurs qui augmentent les loyers . Les logements sociaux ne sont pas toujours occupés par de vrais ayant-droits .']\n"
     ]
    }
   ],
   "source": [
    "def rep_dep(num_dep):\n",
    "    return sorted_d[\"FR-\"+str(num_dep)]\n",
    "\n",
    "print(rep_dep(34))"
   ]
  }
 ],
 "metadata": {
  "kernelspec": {
   "display_name": "Python 3",
   "language": "python",
   "name": "python3"
  },
  "language_info": {
   "codemirror_mode": {
    "name": "ipython",
    "version": 3
   },
   "file_extension": ".py",
   "mimetype": "text/x-python",
   "name": "python",
   "nbconvert_exporter": "python",
   "pygments_lexer": "ipython3",
   "version": "3.11.2"
  },
  "orig_nbformat": 4
 },
 "nbformat": 4,
 "nbformat_minor": 2
}
