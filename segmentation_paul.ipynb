{
 "cells": [
  {
   "attachments": {},
   "cell_type": "markdown",
   "metadata": {},
   "source": [
    "Initiliase les lignes et regarde les titres les plus récurrents"
   ]
  },
  {
   "cell_type": "code",
   "execution_count": 1,
   "metadata": {},
   "outputs": [],
   "source": [
    "import matplotlib.pyplot as plt\n",
    "\n",
    "with open(\"../fichier_sans_lignes_vides.txt\", \"r\", encoding=\"utf8\") as f:\n",
    "    lines = f.readlines()\n",
    "\n",
    "lines = [line.strip() for line in lines if line.strip()]\n",
    "\n",
    "d_title = {}\n",
    "for i in range(len(lines)):\n",
    "    if lines[i][0:5] == \"<text\":\n",
    "        p = \"\"\n",
    "        boo = False\n",
    "        for j in range(len(lines[i])):\n",
    "            if lines[i][j-7:j] == 'title=\"':\n",
    "                boo = True\n",
    "            if lines[i][j] == '\"':\n",
    "                boo = False\n",
    "            if boo != False:\n",
    "                p += lines[i][j]\n",
    "        if p in d_title:  #ajoute dans un dictionnaire le thème et son itération correspondante dans une liste\n",
    "            d_title[p].append(i)\n",
    "        else:\n",
    "            d_title[p] = [i]\n",
    "    if i > 50:\n",
    "        break \n",
    "# print(d_title)\n",
    "\n",
    "# for elt in d_title:\n",
    "#     if len(d_title[elt]) > 1:\n",
    "#         print(elt,\"---\",len(d_title[elt]))  \n",
    "#affiche le nombre de thèmes qui apparaisse + de 2 fois, et c'est souvent 2 fois max donc pas fou de faire une analyse sur les thèmes sauf si on les généralise mais c'est risqué sur des questions précises\n",
    "# pas concluant"
   ]
  },
  {
   "attachments": {},
   "cell_type": "markdown",
   "metadata": {},
   "source": [
    "Regarde les questions et les mets dans un dictionnaire en fonction d'un département"
   ]
  },
  {
   "cell_type": "code",
   "execution_count": 2,
   "metadata": {},
   "outputs": [],
   "source": [
    "# d_dept_quest = {}\n",
    "# for i in range(len(lines)):\n",
    "#     if lines[i][0:5] == \"<text\":\n",
    "#         p = \"\"\n",
    "#         boo = False\n",
    "#         for j in range(len(lines[i])):\n",
    "#             # if lines[i][j-12:j] == 'department=\"': #par nom de departement\n",
    "#             # if lines[i][j-8:j] == 'region=\"':  #par region\n",
    "#             if lines[i][j-15:j] == 'departmentiso=\"':  #par numéro de departement\n",
    "#                 boo = True\n",
    "#             if lines[i][j] == '\"':\n",
    "#                 boo = False\n",
    "#             if boo != False:\n",
    "#                 p += lines[i][j]\n",
    "#         if p in d_dept_quest:  #ajoute dans un dictionnaire le thème et son itération correspondante dans une liste\n",
    "#             # print(lines[i])\n",
    "#             d_dept_quest[p].append(lines[i])\n",
    "#         else:\n",
    "#             d_dept_quest[p] = [lines[i]]\n",
    "    # if i > 100:\n",
    "    #     break\n",
    "\n",
    "   # for elt in d_dept_quest:\n",
    "#     d_dept_quest[elt] = len(d_dept_quest[elt])\n",
    "#     print(elt,\"---\",d_dept_quest[elt]) \n",
    "# print(\"\\n\\n\")"
   ]
  },
  {
   "attachments": {},
   "cell_type": "markdown",
   "metadata": {},
   "source": [
    "La même chose en faisant les réponses"
   ]
  },
  {
   "cell_type": "code",
<<<<<<< HEAD
   "execution_count": 10,
=======
   "execution_count": 7,
>>>>>>> 1ba5887f9e3cf5f6b328ca36f0ae2fb05731c7f7
   "metadata": {},
   "outputs": [],
   "source": [
    "d_dept_rep = {}\n",
    "for i in range(len(lines)):\n",
    "    if lines[i][0:5] == \"<text\":\n",
    "        p = \"\"\n",
    "        boo = False\n",
    "        for j in range(len(lines[i])):\n",
    "            # if lines[i][j-12:j] == 'department=\"': #par nom de departement\n",
    "            # if lines[i][j-8:j] == 'region=\"':  #par region\n",
    "            if lines[i][j-15:j] == 'departmentiso=\"':  #par numéro de departement\n",
    "                boo = True\n",
    "            if lines[i][j] == '\"':\n",
    "                boo = False\n",
    "            if boo != False:\n",
    "                p += lines[i][j]\n",
    "    else:\n",
    "        if lines[i] != \"</text>\":\n",
    "            if p in d_dept_rep:  #ajoute dans un dictionnaire le thème et son itération correspondante dans une liste\n",
    "                # print(lines[i])\n",
    "                d_dept_rep[p].append(lines[i])\n",
    "            else:\n",
    "                d_dept_rep[p] = [lines[i]]\n",
    "    # if i > 10000:\n",
    "    #     break\n",
    "\n",
    "list_dep = [\"FR-09\",\"FR-11\",\"FR-12\",\"FR-30\",\"FR-31\",\"FR-32\",\"FR-34\",\"FR-46\",\"FR-48\",\"FR-65\",\"FR-66\",\"FR-81\",\"FR-82\"]\n",
    "for cle in list(d_dept_rep.keys()):\n",
    "    if cle not in list_dep:\n",
    "        del d_dept_rep[cle]\n",
    "# for elt in d_dept_rep:\n",
    "#     d_dept_rep[elt] = len(d_dept_rep[elt])\n",
    "#     print(elt,\"---\",d_dept_rep[elt]) \n",
    "#par départment c'est déjà mieux (données sur 100 départements)\n",
    "\n",
    "#trier de manière décroissante\n",
<<<<<<< HEAD
    "sorted_d = dict(sorted(d_dept_rep.items(), key=lambda x: len(x[1]), reverse=True))"
=======
    "sorted_d = dict(sorted(d_dept_rep.items(), key=lambda x: len(x[1]), reverse=True))\n",
    "# print(sorted_d)"
>>>>>>> 1ba5887f9e3cf5f6b328ca36f0ae2fb05731c7f7
   ]
  },
  {
   "cell_type": "code",
<<<<<<< HEAD
   "execution_count": 12,
=======
   "execution_count": null,
   "metadata": {},
   "outputs": [],
   "source": [
    "###export en fichier text\n",
    "\n",
    "with open('occitanie.txt', 'w') as fichier:\n",
    "    for cle, valeur in sorted_d.items():\n",
    "        fichier.write('{}:{}\\n'.format(cle, valeur))\n"
   ]
  },
  {
   "cell_type": "code",
   "execution_count": 4,
>>>>>>> 1ba5887f9e3cf5f6b328ca36f0ae2fb05731c7f7
   "metadata": {},
   "outputs": [],
   "source": [
    "def rep_dep(num_dep):\n",
    "    return sorted_d[\"FR-\"+str(num_dep)]\n",
    "\n",
    "# print(rep_dep(34))"
   ]
  }
 ],
 "metadata": {
  "kernelspec": {
   "display_name": "Python 3",
   "language": "python",
   "name": "python3"
  },
  "language_info": {
   "codemirror_mode": {
    "name": "ipython",
    "version": 3
   },
   "file_extension": ".py",
   "mimetype": "text/x-python",
   "name": "python",
   "nbconvert_exporter": "python",
   "pygments_lexer": "ipython3",
   "version": "3.9.6"
  },
  "orig_nbformat": 4
 },
 "nbformat": 4,
 "nbformat_minor": 2
}
